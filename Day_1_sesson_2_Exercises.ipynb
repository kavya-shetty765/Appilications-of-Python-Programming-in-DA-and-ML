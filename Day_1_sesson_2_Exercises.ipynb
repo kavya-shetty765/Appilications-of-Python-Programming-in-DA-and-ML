{
  "nbformat": 4,
  "nbformat_minor": 0,
  "metadata": {
    "colab": {
      "name": "Day 1 sesson 2 Exercises.ipynb",
      "provenance": [],
      "authorship_tag": "ABX9TyMc85k97WvoR+rUbsuM37Ge",
      "include_colab_link": true
    },
    "kernelspec": {
      "name": "python3",
      "display_name": "Python 3"
    }
  },
  "cells": [
    {
      "cell_type": "markdown",
      "metadata": {
        "id": "view-in-github",
        "colab_type": "text"
      },
      "source": [
        "<a href=\"https://colab.research.google.com/github/kavya-shetty765/Appilications-of-Python-Programming-in-DA-and-ML/blob/master/Day_1_sesson_2_Exercises.ipynb\" target=\"_parent\"><img src=\"https://colab.research.google.com/assets/colab-badge.svg\" alt=\"Open In Colab\"/></a>"
      ]
    },
    {
      "cell_type": "code",
      "metadata": {
        "id": "WZ5__XOwAGhU",
        "colab_type": "code",
        "colab": {}
      },
      "source": [
        "1 Write a program to print the triangle \n",
        "i/p  4\n",
        "\n",
        "1\n",
        "2    3\n",
        "3    4   5\n",
        "4    5   6   7\n",
        "\n"
      ],
      "execution_count": 0,
      "outputs": []
    },
    {
      "cell_type": "code",
      "metadata": {
        "id": "u2EPT7lbAZcH",
        "colab_type": "code",
        "colab": {
          "base_uri": "https://localhost:8080/",
          "height": 121
        },
        "outputId": "12897a32-d578-45ef-c642-6d9b2855a0c8"
      },
      "source": [
        "n=int(input(\"Enter number:\"));\n",
        "for i in range(n+1):\n",
        "    c=i\n",
        "    for j in range(1,i+1):\n",
        "        print(c, end=\" \")\n",
        "        c=c+1\n",
        "    print('')"
      ],
      "execution_count": 1,
      "outputs": [
        {
          "output_type": "stream",
          "text": [
            "Enter number:4\n",
            "\n",
            "1 \n",
            "2 3 \n",
            "3 4 5 \n",
            "4 5 6 7 \n"
          ],
          "name": "stdout"
        }
      ]
    },
    {
      "cell_type": "markdown",
      "metadata": {
        "id": "aByYqPY7Alwm",
        "colab_type": "text"
      },
      "source": [
        "2 Enter number 4\n",
        "\n",
        "*\n",
        "* *\n",
        "* * *\n",
        "* * * *\n"
      ]
    },
    {
      "cell_type": "code",
      "metadata": {
        "id": "jNxs6qxvAvMC",
        "colab_type": "code",
        "colab": {
          "base_uri": "https://localhost:8080/",
          "height": 87
        },
        "outputId": "f0000715-c6f7-4ed0-885d-56a3229b1fc3"
      },
      "source": [
        "\n",
        "\n",
        "rows = 4\n",
        "for i in range(0, rows):\n",
        "    for j in range(0, i + 1):\n",
        "        print(\"*\", end=' ')\n",
        "\n",
        "    print(\"\\r\")\n"
      ],
      "execution_count": 2,
      "outputs": [
        {
          "output_type": "stream",
          "text": [
            "* \r\n",
            "* * \r\n",
            "* * * \r\n",
            "* * * * \r\n"
          ],
          "name": "stdout"
        }
      ]
    },
    {
      "cell_type": "markdown",
      "metadata": {
        "id": "eBtb29DyA4v4",
        "colab_type": "text"
      },
      "source": [
        "Enter number 5\n",
        "\n",
        "5\n",
        "4 5\n",
        "3 4 5\n",
        "2 3 4 5\n",
        "1 2 3 4 5\n"
      ]
    },
    {
      "cell_type": "code",
      "metadata": {
        "id": "1iv6KcRRA9cB",
        "colab_type": "code",
        "colab": {}
      },
      "source": [
        ""
      ],
      "execution_count": 0,
      "outputs": []
    },
    {
      "cell_type": "code",
      "metadata": {
        "id": "tVbXbfz1A9gj",
        "colab_type": "code",
        "colab": {
          "base_uri": "https://localhost:8080/",
          "height": 1000
        },
        "outputId": "0d4d3e78-a097-4475-e5ec-7219b3169812"
      },
      "source": [
        "\n",
        "n=int(input(\"Enter number:\"));\n",
        "for i in range(n+1):\n",
        "    c=n-i+1\n",
        "    for j in range(n,n-i,-1):\n",
        "        print(c, end=\" \")\n",
        "        c=c+1\n",
        "    print('')"
      ],
      "execution_count": 3,
      "outputs": [
        {
          "output_type": "stream",
          "text": [
            "Enter number:67\n",
            "\n",
            "67 \n",
            "66 67 \n",
            "65 66 67 \n",
            "64 65 66 67 \n",
            "63 64 65 66 67 \n",
            "62 63 64 65 66 67 \n",
            "61 62 63 64 65 66 67 \n",
            "60 61 62 63 64 65 66 67 \n",
            "59 60 61 62 63 64 65 66 67 \n",
            "58 59 60 61 62 63 64 65 66 67 \n",
            "57 58 59 60 61 62 63 64 65 66 67 \n",
            "56 57 58 59 60 61 62 63 64 65 66 67 \n",
            "55 56 57 58 59 60 61 62 63 64 65 66 67 \n",
            "54 55 56 57 58 59 60 61 62 63 64 65 66 67 \n",
            "53 54 55 56 57 58 59 60 61 62 63 64 65 66 67 \n",
            "52 53 54 55 56 57 58 59 60 61 62 63 64 65 66 67 \n",
            "51 52 53 54 55 56 57 58 59 60 61 62 63 64 65 66 67 \n",
            "50 51 52 53 54 55 56 57 58 59 60 61 62 63 64 65 66 67 \n",
            "49 50 51 52 53 54 55 56 57 58 59 60 61 62 63 64 65 66 67 \n",
            "48 49 50 51 52 53 54 55 56 57 58 59 60 61 62 63 64 65 66 67 \n",
            "47 48 49 50 51 52 53 54 55 56 57 58 59 60 61 62 63 64 65 66 67 \n",
            "46 47 48 49 50 51 52 53 54 55 56 57 58 59 60 61 62 63 64 65 66 67 \n",
            "45 46 47 48 49 50 51 52 53 54 55 56 57 58 59 60 61 62 63 64 65 66 67 \n",
            "44 45 46 47 48 49 50 51 52 53 54 55 56 57 58 59 60 61 62 63 64 65 66 67 \n",
            "43 44 45 46 47 48 49 50 51 52 53 54 55 56 57 58 59 60 61 62 63 64 65 66 67 \n",
            "42 43 44 45 46 47 48 49 50 51 52 53 54 55 56 57 58 59 60 61 62 63 64 65 66 67 \n",
            "41 42 43 44 45 46 47 48 49 50 51 52 53 54 55 56 57 58 59 60 61 62 63 64 65 66 67 \n",
            "40 41 42 43 44 45 46 47 48 49 50 51 52 53 54 55 56 57 58 59 60 61 62 63 64 65 66 67 \n",
            "39 40 41 42 43 44 45 46 47 48 49 50 51 52 53 54 55 56 57 58 59 60 61 62 63 64 65 66 67 \n",
            "38 39 40 41 42 43 44 45 46 47 48 49 50 51 52 53 54 55 56 57 58 59 60 61 62 63 64 65 66 67 \n",
            "37 38 39 40 41 42 43 44 45 46 47 48 49 50 51 52 53 54 55 56 57 58 59 60 61 62 63 64 65 66 67 \n",
            "36 37 38 39 40 41 42 43 44 45 46 47 48 49 50 51 52 53 54 55 56 57 58 59 60 61 62 63 64 65 66 67 \n",
            "35 36 37 38 39 40 41 42 43 44 45 46 47 48 49 50 51 52 53 54 55 56 57 58 59 60 61 62 63 64 65 66 67 \n",
            "34 35 36 37 38 39 40 41 42 43 44 45 46 47 48 49 50 51 52 53 54 55 56 57 58 59 60 61 62 63 64 65 66 67 \n",
            "33 34 35 36 37 38 39 40 41 42 43 44 45 46 47 48 49 50 51 52 53 54 55 56 57 58 59 60 61 62 63 64 65 66 67 \n",
            "32 33 34 35 36 37 38 39 40 41 42 43 44 45 46 47 48 49 50 51 52 53 54 55 56 57 58 59 60 61 62 63 64 65 66 67 \n",
            "31 32 33 34 35 36 37 38 39 40 41 42 43 44 45 46 47 48 49 50 51 52 53 54 55 56 57 58 59 60 61 62 63 64 65 66 67 \n",
            "30 31 32 33 34 35 36 37 38 39 40 41 42 43 44 45 46 47 48 49 50 51 52 53 54 55 56 57 58 59 60 61 62 63 64 65 66 67 \n",
            "29 30 31 32 33 34 35 36 37 38 39 40 41 42 43 44 45 46 47 48 49 50 51 52 53 54 55 56 57 58 59 60 61 62 63 64 65 66 67 \n",
            "28 29 30 31 32 33 34 35 36 37 38 39 40 41 42 43 44 45 46 47 48 49 50 51 52 53 54 55 56 57 58 59 60 61 62 63 64 65 66 67 \n",
            "27 28 29 30 31 32 33 34 35 36 37 38 39 40 41 42 43 44 45 46 47 48 49 50 51 52 53 54 55 56 57 58 59 60 61 62 63 64 65 66 67 \n",
            "26 27 28 29 30 31 32 33 34 35 36 37 38 39 40 41 42 43 44 45 46 47 48 49 50 51 52 53 54 55 56 57 58 59 60 61 62 63 64 65 66 67 \n",
            "25 26 27 28 29 30 31 32 33 34 35 36 37 38 39 40 41 42 43 44 45 46 47 48 49 50 51 52 53 54 55 56 57 58 59 60 61 62 63 64 65 66 67 \n",
            "24 25 26 27 28 29 30 31 32 33 34 35 36 37 38 39 40 41 42 43 44 45 46 47 48 49 50 51 52 53 54 55 56 57 58 59 60 61 62 63 64 65 66 67 \n",
            "23 24 25 26 27 28 29 30 31 32 33 34 35 36 37 38 39 40 41 42 43 44 45 46 47 48 49 50 51 52 53 54 55 56 57 58 59 60 61 62 63 64 65 66 67 \n",
            "22 23 24 25 26 27 28 29 30 31 32 33 34 35 36 37 38 39 40 41 42 43 44 45 46 47 48 49 50 51 52 53 54 55 56 57 58 59 60 61 62 63 64 65 66 67 \n",
            "21 22 23 24 25 26 27 28 29 30 31 32 33 34 35 36 37 38 39 40 41 42 43 44 45 46 47 48 49 50 51 52 53 54 55 56 57 58 59 60 61 62 63 64 65 66 67 \n",
            "20 21 22 23 24 25 26 27 28 29 30 31 32 33 34 35 36 37 38 39 40 41 42 43 44 45 46 47 48 49 50 51 52 53 54 55 56 57 58 59 60 61 62 63 64 65 66 67 \n",
            "19 20 21 22 23 24 25 26 27 28 29 30 31 32 33 34 35 36 37 38 39 40 41 42 43 44 45 46 47 48 49 50 51 52 53 54 55 56 57 58 59 60 61 62 63 64 65 66 67 \n",
            "18 19 20 21 22 23 24 25 26 27 28 29 30 31 32 33 34 35 36 37 38 39 40 41 42 43 44 45 46 47 48 49 50 51 52 53 54 55 56 57 58 59 60 61 62 63 64 65 66 67 \n",
            "17 18 19 20 21 22 23 24 25 26 27 28 29 30 31 32 33 34 35 36 37 38 39 40 41 42 43 44 45 46 47 48 49 50 51 52 53 54 55 56 57 58 59 60 61 62 63 64 65 66 67 \n",
            "16 17 18 19 20 21 22 23 24 25 26 27 28 29 30 31 32 33 34 35 36 37 38 39 40 41 42 43 44 45 46 47 48 49 50 51 52 53 54 55 56 57 58 59 60 61 62 63 64 65 66 67 \n",
            "15 16 17 18 19 20 21 22 23 24 25 26 27 28 29 30 31 32 33 34 35 36 37 38 39 40 41 42 43 44 45 46 47 48 49 50 51 52 53 54 55 56 57 58 59 60 61 62 63 64 65 66 67 \n",
            "14 15 16 17 18 19 20 21 22 23 24 25 26 27 28 29 30 31 32 33 34 35 36 37 38 39 40 41 42 43 44 45 46 47 48 49 50 51 52 53 54 55 56 57 58 59 60 61 62 63 64 65 66 67 \n",
            "13 14 15 16 17 18 19 20 21 22 23 24 25 26 27 28 29 30 31 32 33 34 35 36 37 38 39 40 41 42 43 44 45 46 47 48 49 50 51 52 53 54 55 56 57 58 59 60 61 62 63 64 65 66 67 \n",
            "12 13 14 15 16 17 18 19 20 21 22 23 24 25 26 27 28 29 30 31 32 33 34 35 36 37 38 39 40 41 42 43 44 45 46 47 48 49 50 51 52 53 54 55 56 57 58 59 60 61 62 63 64 65 66 67 \n",
            "11 12 13 14 15 16 17 18 19 20 21 22 23 24 25 26 27 28 29 30 31 32 33 34 35 36 37 38 39 40 41 42 43 44 45 46 47 48 49 50 51 52 53 54 55 56 57 58 59 60 61 62 63 64 65 66 67 \n",
            "10 11 12 13 14 15 16 17 18 19 20 21 22 23 24 25 26 27 28 29 30 31 32 33 34 35 36 37 38 39 40 41 42 43 44 45 46 47 48 49 50 51 52 53 54 55 56 57 58 59 60 61 62 63 64 65 66 67 \n",
            "9 10 11 12 13 14 15 16 17 18 19 20 21 22 23 24 25 26 27 28 29 30 31 32 33 34 35 36 37 38 39 40 41 42 43 44 45 46 47 48 49 50 51 52 53 54 55 56 57 58 59 60 61 62 63 64 65 66 67 \n",
            "8 9 10 11 12 13 14 15 16 17 18 19 20 21 22 23 24 25 26 27 28 29 30 31 32 33 34 35 36 37 38 39 40 41 42 43 44 45 46 47 48 49 50 51 52 53 54 55 56 57 58 59 60 61 62 63 64 65 66 67 \n",
            "7 8 9 10 11 12 13 14 15 16 17 18 19 20 21 22 23 24 25 26 27 28 29 30 31 32 33 34 35 36 37 38 39 40 41 42 43 44 45 46 47 48 49 50 51 52 53 54 55 56 57 58 59 60 61 62 63 64 65 66 67 \n",
            "6 7 8 9 10 11 12 13 14 15 16 17 18 19 20 21 22 23 24 25 26 27 28 29 30 31 32 33 34 35 36 37 38 39 40 41 42 43 44 45 46 47 48 49 50 51 52 53 54 55 56 57 58 59 60 61 62 63 64 65 66 67 \n",
            "5 6 7 8 9 10 11 12 13 14 15 16 17 18 19 20 21 22 23 24 25 26 27 28 29 30 31 32 33 34 35 36 37 38 39 40 41 42 43 44 45 46 47 48 49 50 51 52 53 54 55 56 57 58 59 60 61 62 63 64 65 66 67 \n",
            "4 5 6 7 8 9 10 11 12 13 14 15 16 17 18 19 20 21 22 23 24 25 26 27 28 29 30 31 32 33 34 35 36 37 38 39 40 41 42 43 44 45 46 47 48 49 50 51 52 53 54 55 56 57 58 59 60 61 62 63 64 65 66 67 \n",
            "3 4 5 6 7 8 9 10 11 12 13 14 15 16 17 18 19 20 21 22 23 24 25 26 27 28 29 30 31 32 33 34 35 36 37 38 39 40 41 42 43 44 45 46 47 48 49 50 51 52 53 54 55 56 57 58 59 60 61 62 63 64 65 66 67 \n",
            "2 3 4 5 6 7 8 9 10 11 12 13 14 15 16 17 18 19 20 21 22 23 24 25 26 27 28 29 30 31 32 33 34 35 36 37 38 39 40 41 42 43 44 45 46 47 48 49 50 51 52 53 54 55 56 57 58 59 60 61 62 63 64 65 66 67 \n",
            "1 2 3 4 5 6 7 8 9 10 11 12 13 14 15 16 17 18 19 20 21 22 23 24 25 26 27 28 29 30 31 32 33 34 35 36 37 38 39 40 41 42 43 44 45 46 47 48 49 50 51 52 53 54 55 56 57 58 59 60 61 62 63 64 65 66 67 \n"
          ],
          "name": "stdout"
        }
      ]
    },
    {
      "cell_type": "markdown",
      "metadata": {
        "id": "08Rq0miRBNgo",
        "colab_type": "text"
      },
      "source": [
        "Enter number 5\n",
        "\n",
        "5 4 3 2 1\n",
        "4 3 2 1\n",
        "3 2 1\n",
        "2 1\n",
        "1\n",
        "\n"
      ]
    },
    {
      "cell_type": "code",
      "metadata": {
        "id": "bU8QO80rBOsN",
        "colab_type": "code",
        "colab": {}
      },
      "source": [
        ""
      ],
      "execution_count": 0,
      "outputs": []
    },
    {
      "cell_type": "markdown",
      "metadata": {
        "id": "El3R1bHDBaFP",
        "colab_type": "text"
      },
      "source": [
        "Enter number 5\n",
        "\n",
        "5 4 3 2 1\n",
        "4 3 2 1\n",
        "3 2 1\n",
        "2 1\n",
        "1\n",
        "\n"
      ]
    },
    {
      "cell_type": "code",
      "metadata": {
        "id": "yQ_o5msSBdvf",
        "colab_type": "code",
        "colab": {
          "base_uri": "https://localhost:8080/",
          "height": 121
        },
        "outputId": "366f7ba3-6db1-47cd-f469-3c335394023c"
      },
      "source": [
        "rows = 5\n",
        "for i in range(0, rows + 1):\n",
        "    for j in range(rows - i, 0, -1):\n",
        "        print(j, end=' ')\n",
        "    print()"
      ],
      "execution_count": 4,
      "outputs": [
        {
          "output_type": "stream",
          "text": [
            "5 4 3 2 1 \n",
            "4 3 2 1 \n",
            "3 2 1 \n",
            "2 1 \n",
            "1 \n",
            "\n"
          ],
          "name": "stdout"
        }
      ]
    },
    {
      "cell_type": "markdown",
      "metadata": {
        "id": "lCEBw2KKBl_D",
        "colab_type": "text"
      },
      "source": [
        "Enter number 4\n",
        "\n",
        "1 2 3 4\n",
        "2 3 4\n",
        "3 4\n",
        "4\n",
        "3 4\n",
        "2 3 4\n",
        "1 2 3 4\n"
      ]
    },
    {
      "cell_type": "code",
      "metadata": {
        "id": "_NmMmpCeByk0",
        "colab_type": "code",
        "colab": {
          "base_uri": "https://localhost:8080/",
          "height": 260
        },
        "outputId": "23504cde-e575-4e3b-b2e7-367ebb22ba5d"
      },
      "source": [
        "n=int(input(\"Enter number:\"));\n",
        "for i in range(n):\n",
        "    for j in range(i+1,n+1,1):\n",
        "        print(j, end=\" \")\n",
        "    print('')\n",
        "for i in range(2,n+1):\n",
        "    c=n-i+1\n",
        "    for j in range(n,n-i,-1):\n",
        "        print(c, end=\" \")\n",
        "        c=c+1\n",
        "    print('')"
      ],
      "execution_count": 5,
      "outputs": [
        {
          "output_type": "stream",
          "text": [
            "Enter number:7\n",
            "1 2 3 4 5 6 7 \n",
            "2 3 4 5 6 7 \n",
            "3 4 5 6 7 \n",
            "4 5 6 7 \n",
            "5 6 7 \n",
            "6 7 \n",
            "7 \n",
            "6 7 \n",
            "5 6 7 \n",
            "4 5 6 7 \n",
            "3 4 5 6 7 \n",
            "2 3 4 5 6 7 \n",
            "1 2 3 4 5 6 7 \n"
          ],
          "name": "stdout"
        }
      ]
    },
    {
      "cell_type": "markdown",
      "metadata": {
        "id": "tJISdZarB2yT",
        "colab_type": "text"
      },
      "source": [
        "6 Find the length of a string without using len functions"
      ]
    },
    {
      "cell_type": "code",
      "metadata": {
        "id": "aQeTq_8UCeMp",
        "colab_type": "code",
        "colab": {
          "base_uri": "https://localhost:8080/",
          "height": 52
        },
        "outputId": "23d9af2c-9dca-44d7-eb49-0bc277942226"
      },
      "source": [
        "str = input(\"Enter a string: \")\n",
        "counter = 0\n",
        "for s in str:\n",
        "      counter = counter+1\n",
        "print(\"Length of the input string is:\", counter)"
      ],
      "execution_count": 6,
      "outputs": [
        {
          "output_type": "stream",
          "text": [
            "Enter a string: kavyashetty\n",
            "Length of the input string is: 11\n"
          ],
          "name": "stdout"
        }
      ]
    },
    {
      "cell_type": "markdown",
      "metadata": {
        "id": "TD1mu2CfCqmK",
        "colab_type": "text"
      },
      "source": [
        "7 Find the no of words and characters in a string"
      ]
    },
    {
      "cell_type": "code",
      "metadata": {
        "id": "7jdwkEMBCuKK",
        "colab_type": "code",
        "colab": {
          "base_uri": "https://localhost:8080/",
          "height": 104
        },
        "outputId": "d5c1ffb3-7207-4bd0-dd83-74f7e999f362"
      },
      "source": [
        "string=input(\"Enter string:\")\n",
        "char=0\n",
        "word=1\n",
        "for i in string:\n",
        "      char=char+1\n",
        "      if(i==' '):\n",
        "            word=word+1\n",
        "print(\"Number of words in the string:\")\n",
        "print(word)\n",
        "print(\"Number of characters in the string:\")\n",
        "print(char)"
      ],
      "execution_count": 7,
      "outputs": [
        {
          "output_type": "stream",
          "text": [
            "Enter string:mangalore city\n",
            "Number of words in the string:\n",
            "2\n",
            "Number of characters in the string:\n",
            "14\n"
          ],
          "name": "stdout"
        }
      ]
    },
    {
      "cell_type": "markdown",
      "metadata": {
        "id": "rdWV2t9UC-HM",
        "colab_type": "text"
      },
      "source": [
        "8 Find the no of occurrences of a word in a string"
      ]
    },
    {
      "cell_type": "code",
      "metadata": {
        "id": "OIMj5n7LDEiX",
        "colab_type": "code",
        "colab": {
          "base_uri": "https://localhost:8080/",
          "height": 35
        },
        "outputId": "042bb235-17f2-46e6-a253-52df19dc3cdd"
      },
      "source": [
        "string = \"My College name is Alva's Institute of Engineering and technology\"\n",
        "substring = \"is\"\n",
        "\n",
        "count = string.count(substring)\n",
        "\n",
        "# print count\n",
        "print(\"The count is:\", count)\n",
        "\n",
        "\n"
      ],
      "execution_count": 8,
      "outputs": [
        {
          "output_type": "stream",
          "text": [
            "The count is: 1\n"
          ],
          "name": "stdout"
        }
      ]
    }
  ]
}